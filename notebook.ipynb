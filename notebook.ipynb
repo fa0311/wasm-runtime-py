{
 "cells": [
  {
   "cell_type": "code",
   "execution_count": null,
   "id": "5dc2ebd6-a30b-45b7-a6b7-f2b93e6c8806",
   "metadata": {},
   "outputs": [],
   "source": [
    "from src.tools.byte import ByteReader\n",
    "from src.wasm.loader.loader import WasmLoader\n",
    "from src.wasm.optimizer.optimizer import WasmOptimizer\n",
    "from src.wasm.runtime.entry import WasmExecEntry\n",
    "\n",
    "\n",
    "def to_model(bin: bytes):\n",
    "    data = ByteReader(bin)\n",
    "    expr = WasmLoader().code_section_instructions(data)\n",
    "    optimize = WasmOptimizer().expr(expr)\n",
    "    return optimize\n",
    "\n",
    "\n",
    "data = WasmExecEntry.init()\n",
    "block = data.get_block(locals=[], stack=[])\n",
    "\n",
    "block.run(to_model(b\"\\x41\\x01\\x0b\\x0b\")) # i32.const 1\n",
    "print(block.stack)\n",
    "\n",
    "block.run(to_model(b\"\\x41\\x02\\x0b\\x0b\")) # i32.const 2\n",
    "print(block.stack)\n",
    "\n",
    "block.run(to_model(b\"\\x6a\\x0b\")) # i32.add\n",
    "print(block.stack)"
   ]
  }
 ],
 "metadata": {
  "kernelspec": {
   "display_name": "Python 3 (ipykernel)",
   "language": "python",
   "name": "python3"
  },
  "language_info": {
   "codemirror_mode": {
    "name": "ipython",
    "version": 3
   },
   "file_extension": ".py",
   "mimetype": "text/x-python",
   "name": "python",
   "nbconvert_exporter": "python",
   "pygments_lexer": "ipython3",
   "version": "3.12.4"
  }
 },
 "nbformat": 4,
 "nbformat_minor": 5
}
